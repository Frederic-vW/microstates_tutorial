{
 "cells": [
  {
   "cell_type": "markdown",
   "id": "f748bcbd",
   "metadata": {},
   "source": [
    "# Microstate analysis with Pycrostates"
   ]
  },
  {
   "cell_type": "code",
   "execution_count": null,
   "id": "404c8400",
   "metadata": {},
   "outputs": [],
   "source": [
    "import mne\n",
    "import numpy as np\n",
    "import os\n",
    "import pickle\n",
    "import pycrostates\n",
    "import seaborn as sns\n",
    "import time\n",
    "\n",
    "from matplotlib import pyplot as plt\n",
    "from mne.io import read_raw_edf\n",
    "\n",
    "from pycrostates.cluster import ModKMeans\n",
    "from pycrostates.io import ChData\n",
    "from pycrostates.preprocessing import extract_gfp_peaks"
   ]
  },
  {
   "cell_type": "code",
   "execution_count": null,
   "id": "4a86f5ff",
   "metadata": {},
   "outputs": [],
   "source": [
    "sleep_stages = ['W', 'N3']"
   ]
  },
  {
   "cell_type": "code",
   "execution_count": null,
   "id": "ff83ffd2",
   "metadata": {},
   "outputs": [],
   "source": [
    "data_dir = \"../data\"\n",
    "all_files = os.listdir(data_dir)\n",
    "print(f\"All files n = {len(all_files):d}\")\n",
    "results_dir = \"./results\"\n",
    "if not os.path.isdir(results_dir):\n",
    "    os.mkdir(results_dir)\n",
    "    print(f\"Results folder created: {results_dir:s}\")"
   ]
  },
  {
   "cell_type": "code",
   "execution_count": null,
   "id": "bfe38e1f",
   "metadata": {},
   "outputs": [],
   "source": [
    "files = {\n",
    "    stage : [f\"{data_dir:s}/{f:s}\" for f in all_files if f.endswith(f'_{stage:s}.edf')] \n",
    "    for stage in sleep_stages\n",
    "}\n",
    "for stage in sleep_stages:\n",
    "    print(f\"\\nSleep stage: {stage:s}\")\n",
    "    for i, f in enumerate(files[stage]):\n",
    "        print(f\"{i:d}: {f:s}\")"
   ]
  },
  {
   "cell_type": "markdown",
   "id": "b6aa17c7",
   "metadata": {},
   "source": [
    "## Group-level microstate clustering"
   ]
  },
  {
   "cell_type": "code",
   "execution_count": null,
   "id": "b03d01f7",
   "metadata": {},
   "outputs": [],
   "source": [
    "# number of microstates\n",
    "K = 5\n",
    "# band-pass filter settings\n",
    "bp_lo, bp_hi = (1, 30)"
   ]
  },
  {
   "cell_type": "code",
   "execution_count": null,
   "id": "1fc4a90a",
   "metadata": {},
   "outputs": [],
   "source": [
    "# this cell will take a while...\n",
    "tic = time.time()\n",
    "montage = mne.channels.make_standard_montage(\"standard_1005\")\n",
    "subject_level_maps = list()\n",
    "for stage in sleep_stages:\n",
    "    print(f\"\\nSleep stage: {stage:s}\")\n",
    "    n_files = len(files[stage])\n",
    "    for i, f in enumerate(files[stage]):\n",
    "        print(f\"{i+1:d}/{n_files:d}: {f:s}\")\n",
    "        raw = read_raw_edf(f, preload=True, verbose=False)\n",
    "        raw.set_montage(montage)\n",
    "        raw.pick(\"eeg\")\n",
    "        raw.filter(l_freq=bp_lo, h_freq=bp_hi)\n",
    "        raw.set_eeg_reference(\"average\")\n",
    "        gfp_peaks = extract_gfp_peaks(raw) # extract GFP peaks\n",
    "        # subject level clustering\n",
    "        ModK = ModKMeans(n_clusters=K, random_state=42)\n",
    "        ModK.fit(gfp_peaks, n_jobs=2)\n",
    "        subject_level_maps.append(ModK.cluster_centers_)\n",
    "# combine maps across all subjects and stages to obtain group maps\n",
    "group_maps = np.vstack(subject_level_maps).T\n",
    "group_maps = ChData(group_maps, ModK.info)\n",
    "# group level clustering\n",
    "ModK = ModKMeans(n_clusters=K, random_state=42)\n",
    "ModK.fit(group_maps, n_jobs=2)\n",
    "toc = time.time()\n",
    "print(f\"[+] Computation time: {toc-tic:.1f} seconds.\")\n",
    "ModK.plot()\n",
    "plt.show()"
   ]
  },
  {
   "cell_type": "markdown",
   "id": "465e0ff1",
   "metadata": {},
   "source": [
    "## Sort group-level microstate template maps"
   ]
  },
  {
   "cell_type": "code",
   "execution_count": null,
   "id": "027906c2",
   "metadata": {},
   "outputs": [],
   "source": [
    "# only once\n",
    "ModK.invert_polarity([False, True, True, True, True])\n",
    "ModK.reorder_clusters(order=[2, 1, 4, 3, 0])\n",
    "ModK.rename_clusters(new_names=[\"A\", \"B\", \"C\", \"D\", \"E\"])\n",
    "ModK.plot()\n",
    "plt.show()"
   ]
  },
  {
   "cell_type": "markdown",
   "id": "720cc21b",
   "metadata": {},
   "source": [
    "## Save group-level microstate template maps"
   ]
  },
  {
   "cell_type": "code",
   "execution_count": null,
   "id": "a1ade7c0",
   "metadata": {},
   "outputs": [],
   "source": [
    "# save the whole ModK object as pickle\n",
    "with open(f\"./results/sleep_group_maps_K{K:d}.pkl\", 'wb') as fp:\n",
    "    pickle.dump(ModK, fp, protocol=pickle.HIGHEST_PROTOCOL)\n",
    "# save array data only in NumPy format\n",
    "np.save(f\"./results/sleep_group_maps_K{K:d}_numpyndarray.npy\", ModK.cluster_centers_)\n",
    "del ModK"
   ]
  },
  {
   "cell_type": "markdown",
   "id": "191550c2",
   "metadata": {},
   "source": [
    "## Fit microstate sequences from group-level maps"
   ]
  },
  {
   "cell_type": "code",
   "execution_count": null,
   "id": "3b39de19",
   "metadata": {},
   "outputs": [],
   "source": [
    "# re-load group-level maps\n",
    "ModK = np.load(f\"./results/sleep_group_maps_K{K:d}.pkl\", allow_pickle=True)\n",
    "print(ModK)"
   ]
  },
  {
   "cell_type": "code",
   "execution_count": null,
   "id": "cfca0022",
   "metadata": {},
   "outputs": [],
   "source": [
    "for stage in sleep_stages:\n",
    "    print(f\"\\nSleep stage: {stage:s}\")\n",
    "    n_files = len(files[stage])\n",
    "    for i, f in enumerate(files[stage]):\n",
    "        print(f\"{i+1:d}/{n_files:d}: {f:s}\")\n",
    "        # get subject ID, e.g. f=\".../data/S00_W.edf\" --> S00\n",
    "        subj_id = f.split('/')[-1].split('.')[0].split('_')[0]\n",
    "        raw = read_raw_edf(f, preload=True, verbose=False)\n",
    "        #raw.set_montage(montage)\n",
    "        raw.pick(\"eeg\")\n",
    "        raw.filter(l_freq=bp_lo, h_freq=bp_hi)\n",
    "        raw.set_eeg_reference(\"average\")\n",
    "        # half window size b=3, lambda factor 5, as in Pascual-Marqui et al. IEEE TBME 1995\n",
    "        segmentation = ModK.predict(\n",
    "            raw,\n",
    "            reject_by_annotation=True,\n",
    "            factor=5,\n",
    "            half_window_size=3,\n",
    "            min_segment_length=3,\n",
    "            reject_edges=True,\n",
    "        )\n",
    "        # save microstate sequence\n",
    "        f_ms = f\"{results_dir:s}/{subj_id:s}_{stage:s}_ms_K{K:d}.npy\"\n",
    "        print(f\"Save as: {f_ms:s}\")\n",
    "        np.save(f_ms, segmentation.labels)\n",
    "print(\"DONE.\")"
   ]
  },
  {
   "cell_type": "markdown",
   "id": "d9a90ef8",
   "metadata": {},
   "source": [
    "## Analyze microstate sequences"
   ]
  },
  {
   "cell_type": "code",
   "execution_count": null,
   "id": "77f12be0",
   "metadata": {},
   "outputs": [],
   "source": [
    "all_result_files = os.listdir(results_dir)\n",
    "result_files = {\n",
    "    stage : [f for f in all_result_files if f\"_{stage:s}_\" in f]\n",
    "    for stage in sleep_stages\n",
    "}\n",
    "for stage in sleep_stages:\n",
    "    for f in result_files[stage]:\n",
    "        print(f\"\\nFile: {f:s}\")\n",
    "        ms = np.load(f\"{results_dir:s}/{f:s}\")\n",
    "        print(ms.shape, np.unique(ms))\n",
    "        # to be continued...\n",
    "print(\"DONE.\")"
   ]
  }
 ],
 "metadata": {
  "kernelspec": {
   "display_name": "Python 3 (ipykernel)",
   "language": "python",
   "name": "python3"
  },
  "language_info": {
   "codemirror_mode": {
    "name": "ipython",
    "version": 3
   },
   "file_extension": ".py",
   "mimetype": "text/x-python",
   "name": "python",
   "nbconvert_exporter": "python",
   "pygments_lexer": "ipython3",
   "version": "3.10.13"
  },
  "toc": {
   "base_numbering": 1,
   "nav_menu": {},
   "number_sections": true,
   "sideBar": true,
   "skip_h1_title": false,
   "title_cell": "Table of Contents",
   "title_sidebar": "Contents",
   "toc_cell": false,
   "toc_position": {},
   "toc_section_display": true,
   "toc_window_display": false
  },
  "varInspector": {
   "cols": {
    "lenName": 16,
    "lenType": 16,
    "lenVar": 40
   },
   "kernels_config": {
    "python": {
     "delete_cmd_postfix": "",
     "delete_cmd_prefix": "del ",
     "library": "var_list.py",
     "varRefreshCmd": "print(var_dic_list())"
    },
    "r": {
     "delete_cmd_postfix": ") ",
     "delete_cmd_prefix": "rm(",
     "library": "var_list.r",
     "varRefreshCmd": "cat(var_dic_list()) "
    }
   },
   "types_to_exclude": [
    "module",
    "function",
    "builtin_function_or_method",
    "instance",
    "_Feature"
   ],
   "window_display": false
  }
 },
 "nbformat": 4,
 "nbformat_minor": 5
}
